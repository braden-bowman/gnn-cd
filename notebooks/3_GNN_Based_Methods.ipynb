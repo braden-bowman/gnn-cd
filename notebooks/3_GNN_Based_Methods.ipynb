{
 "cells": [
  {
   "cell_type": "markdown",
   "metadata": {},
   "source": [
    "# Graph Neural Network-Based Community Detection\n",
    "\n",
    "This notebook demonstrates how to use Graph Neural Networks (GNNs) for community detection. We'll explore:\n",
    "\n",
    "1. Loading and preparing graphs for GNN processing\n",
    "2. Implementing and training different GNN architectures\n",
    "3. Extracting node embeddings and performing clustering\n",
    "4. Evaluating detection results against ground truth\n",
    "5. Comparing different GNN models"
   ]
  },
  {
   "cell_type": "code",
   "metadata": {},
   "outputs": [],
   "source": "import sys\nimport os\nimport numpy as np\nimport torch\nimport polars as pl\nimport rustworkx as rx\nimport matplotlib.pyplot as plt\nimport seaborn as sns\nimport pickle\nimport time\nimport warnings\nwarnings.filterwarnings('ignore')\n\n# Import directly from the community_detection package\nfrom community_detection.gnn_community_detection import (\n    rwx_to_pyg, GCN, GraphSAGE, GAT, VGAE,\n    train_gnn_embedding, extract_embeddings, detect_communities_from_embeddings,\n    evaluate_communities, plot_embeddings, add_communities_to_graph,\n    run_gnn_community_detection, compare_gnn_models\n)\n\n# Import functions from data_prep for generating graphs if needed\nfrom community_detection.data_prep import generate_synthetic_graph"
  },
  {
   "cell_type": "markdown",
   "metadata": {},
   "source": [
    "## 1. Check PyTorch Geometric Availability\n",
    "\n",
    "GNN-based methods require PyTorch and PyTorch Geometric. Let's check if they're available."
   ]
  },
  {
   "cell_type": "code",
   "execution_count": null,
   "metadata": {},
   "outputs": [],
   "source": [
    "# Check if PyTorch Geometric is available\n",
    "try:\n",
    "    import torch_geometric\n",
    "    from torch_geometric.data import Data\n",
    "    TORCH_GEOMETRIC_AVAILABLE = True\n",
    "    print(\"PyTorch Geometric is available.\")\n",
    "except ImportError:\n",
    "    TORCH_GEOMETRIC_AVAILABLE = False\n",
    "    print(\"PyTorch Geometric is not available. Please install it to run GNN-based methods.\")\n",
    "    print(\"You can install it with: pip install torch-geometric\")"
   ]
  },
  {
   "cell_type": "markdown",
   "metadata": {},
   "source": [
    "## 2. Load or Generate Test Graph\n",
    "\n",
    "Let's load the graph we've been using in previous notebooks."
   ]
  },
  {
   "cell_type": "code",
   "execution_count": null,
   "metadata": {},
   "outputs": [],
   "source": [
    "# Check if PyTorch Geometric is available before proceeding\n",
    "if not TORCH_GEOMETRIC_AVAILABLE:\n",
    "    print(\"PyTorch Geometric is required for this notebook. Please install it and restart the notebook.\")\n",
    "else:\n",
    "    # Check if previously saved graphs are available\n",
    "    if os.path.exists('data/sbm_graph.gpickle'):\n",
    "        # Load the SBM graph using pickle\n",
    "        print(\"Loading SBM graph from file...\")\n",
    "        with open('data/sbm_graph.gpickle', 'rb') as f:\n",
    "            G = pickle.load(f)\n",
    "    else:\n",
    "        # Generate a new SBM graph\n",
    "        print(\"Generating a new SBM graph...\")\n",
    "        n_communities = 5\n",
    "        G, _ = generate_synthetic_graph(\n",
    "            'sbm', \n",
    "            n_nodes=100, \n",
    "            n_communities=n_communities,\n",
    "            p_in=0.3, \n",
    "            p_out=0.05\n",
    "        )\n",
    "        \n",
    "        # Save the graph in pickle format for future use\n",
    "        os.makedirs('data', exist_ok=True)\n",
    "        with open('data/sbm_graph.gpickle', 'wb') as f:\n",
    "            pickle.dump(G, f)\n",
    "        print(\"Generated and saved new SBM graph.\")\n",
    "\n",
    "    # Extract ground truth communities\n",
    "    ground_truth = {}\n",
    "    for i in range(len(G)):\n",
    "        node_data = G.get_node_data(i)\n",
    "        if node_data and 'community' in node_data:\n",
    "            ground_truth[i] = node_data['community']\n",
    "\n",
    "    # Visualize the graph with ground truth communities\n",
    "    plot_embeddings(torch.randn(len(G), 2), torch.tensor([ground_truth.get(i, 0) for i in range(len(G))]), \n",
    "                  method='none', title=\"Ground Truth Communities\")"
   ]
  },
  {
   "cell_type": "markdown",
   "metadata": {},
   "source": [
    "## 3. GCN-Based Community Detection\n",
    "\n",
    "Let's start with a Graph Convolutional Network (GCN) model."
   ]
  },
  {
   "cell_type": "code",
   "execution_count": null,
   "metadata": {},
   "outputs": [],
   "source": [
    "if TORCH_GEOMETRIC_AVAILABLE:\n",
    "    # Run GCN-based community detection\n",
    "    print(\"Running GCN-based community detection...\")\n",
    "    \n",
    "    # Get number of communities from ground truth\n",
    "    n_clusters = len(set(ground_truth.values()))\n",
    "    \n",
    "    # Run GCN\n",
    "    gcn_results = run_gnn_community_detection(\n",
    "        G, \n",
    "        model_type='gcn',\n",
    "        embedding_dim=16,\n",
    "        n_clusters=n_clusters,\n",
    "        epochs=100,\n",
    "        ground_truth_attr='community'\n",
    "    )\n",
    "    \n",
    "    # Save results\n",
    "    os.makedirs('results', exist_ok=True)\n",
    "    with open('results/gcn_results.pkl', 'wb') as f:\n",
    "        pickle.dump(gcn_results, f)"
   ]
  },
  {
   "cell_type": "markdown",
   "metadata": {},
   "source": [
    "## 4. GraphSAGE-Based Community Detection\n",
    "\n",
    "Now let's try GraphSAGE, which is particularly good for inductive learning tasks."
   ]
  },
  {
   "cell_type": "code",
   "execution_count": null,
   "metadata": {},
   "outputs": [],
   "source": [
    "if TORCH_GEOMETRIC_AVAILABLE:\n",
    "    # Run GraphSAGE-based community detection\n",
    "    print(\"Running GraphSAGE-based community detection...\")\n",
    "    \n",
    "    # Run GraphSAGE\n",
    "    graphsage_results = run_gnn_community_detection(\n",
    "        G, \n",
    "        model_type='graphsage',\n",
    "        embedding_dim=16,\n",
    "        n_clusters=n_clusters,\n",
    "        epochs=100,\n",
    "        ground_truth_attr='community'\n",
    "    )\n",
    "    \n",
    "    # Save results\n",
    "    with open('results/graphsage_results.pkl', 'wb') as f:\n",
    "        pickle.dump(graphsage_results, f)"
   ]
  },
  {
   "cell_type": "markdown",
   "metadata": {},
   "source": [
    "## 5. GAT-Based Community Detection\n",
    "\n",
    "Graph Attention Networks (GAT) use attention mechanisms to weight neighbor nodes' influence."
   ]
  },
  {
   "cell_type": "code",
   "execution_count": null,
   "metadata": {},
   "outputs": [],
   "source": [
    "if TORCH_GEOMETRIC_AVAILABLE:\n",
    "    # Run GAT-based community detection\n",
    "    print(\"Running GAT-based community detection...\")\n",
    "    \n",
    "    # Run GAT\n",
    "    gat_results = run_gnn_community_detection(\n",
    "        G, \n",
    "        model_type='gat',\n",
    "        embedding_dim=16,\n",
    "        n_clusters=n_clusters,\n",
    "        epochs=100,\n",
    "        ground_truth_attr='community'\n",
    "    )\n",
    "    \n",
    "    # Save results\n",
    "    with open('results/gat_results.pkl', 'wb') as f:\n",
    "        pickle.dump(gat_results, f)"
   ]
  },
  {
   "cell_type": "markdown",
   "metadata": {},
   "source": [
    "## 6. VGAE-Based Community Detection\n",
    "\n",
    "Variational Graph Autoencoders (VGAE) learn latent representations in an unsupervised manner."
   ]
  },
  {
   "cell_type": "code",
   "execution_count": null,
   "metadata": {},
   "outputs": [],
   "source": [
    "if TORCH_GEOMETRIC_AVAILABLE:\n",
    "    # Run VGAE-based community detection\n",
    "    print(\"Running VGAE-based community detection...\")\n",
    "    \n",
    "    # Run VGAE\n",
    "    vgae_results = run_gnn_community_detection(\n",
    "        G, \n",
    "        model_type='vgae',\n",
    "        embedding_dim=16,\n",
    "        n_clusters=n_clusters,\n",
    "        epochs=100,\n",
    "        ground_truth_attr='community'\n",
    "    )\n",
    "    \n",
    "    # Save results\n",
    "    with open('results/vgae_results.pkl', 'wb') as f:\n",
    "        pickle.dump(vgae_results, f)"
   ]
  },
  {
   "cell_type": "markdown",
   "metadata": {},
   "source": [
    "## 7. Comparing GNN Models\n",
    "\n",
    "Now, let's run a comprehensive comparison of all the GNN-based methods."
   ]
  },
  {
   "cell_type": "code",
   "execution_count": null,
   "metadata": {},
   "outputs": [],
   "source": [
    "if TORCH_GEOMETRIC_AVAILABLE:\n",
    "    # Compare different GNN models\n",
    "    print(\"Comparing different GNN models...\")\n",
    "    \n",
    "    # Run comparison\n",
    "    results_df = compare_gnn_models(\n",
    "        G,\n",
    "        embedding_dim=16,\n",
    "        n_clusters=n_clusters,\n",
    "        epochs=100,\n",
    "        ground_truth_attr='community'\n",
    "    )\n",
    "    \n",
    "    # Save the comparison results\n",
    "    results_df.write_parquet('results/gnn_methods_comparison.parquet', compression=\"zstd\")\n",
    "    \n",
    "    # Display results\n",
    "    print(\"\\nComparison Results:\")\n",
    "    print(results_df)"
   ]
  },
  {
   "cell_type": "markdown",
   "metadata": {},
   "source": [
    "## 8. Visualizing Node Embeddings\n",
    "\n",
    "Let's take a closer look at the node embeddings generated by different GNN models."
   ]
  },
  {
   "cell_type": "code",
   "execution_count": null,
   "metadata": {},
   "outputs": [],
   "source": [
    "if TORCH_GEOMETRIC_AVAILABLE:\n",
    "    # Create a custom function to extract and visualize embeddings from each model\n",
    "    def visualize_model_embeddings(G, model_type, embedding_dim=16, epochs=100):\n",
    "        # Convert graph to PyG format\n",
    "        data = rwx_to_pyg(G)\n",
    "        \n",
    "        # Initialize model\n",
    "        if model_type == 'gcn':\n",
    "            model = GCN(data.x.size(1), hidden_dim=32, output_dim=embedding_dim)\n",
    "        elif model_type == 'graphsage':\n",
    "            model = GraphSAGE(data.x.size(1), hidden_dim=32, output_dim=embedding_dim)\n",
    "        elif model_type == 'gat':\n",
    "            model = GAT(data.x.size(1), hidden_dim=32, output_dim=embedding_dim)\n",
    "        elif model_type == 'vgae':\n",
    "            model = VGAE(data.x.size(1), hidden_dim=32, latent_dim=embedding_dim)\n",
    "        else:\n",
    "            raise ValueError(f\"Unsupported model type: {model_type}\")\n",
    "        \n",
    "        # Train model\n",
    "        model = train_gnn_embedding(model, data, epochs=epochs, verbose=True)\n",
    "        \n",
    "        # Extract embeddings\n",
    "        embeddings = extract_embeddings(model, data)\n",
    "        \n",
    "        # Get ground truth communities\n",
    "        ground_truth = []\n",
    "        for i in range(len(G)):\n",
    "            node_data = G.get_node_data(i)\n",
    "            if node_data and 'community' in node_data:\n",
    "                ground_truth.append(node_data['community'])\n",
    "            else:\n",
    "                ground_truth.append(0)\n",
    "        \n",
    "        ground_truth = torch.tensor(ground_truth)\n",
    "        \n",
    "        # Visualize embeddings colored by ground truth\n",
    "        plot_embeddings(embeddings, ground_truth, method='tsne', \n",
    "                      title=f\"{model_type.upper()} Node Embeddings (Ground Truth Coloring)\")\n",
    "        \n",
    "        # Detect communities from embeddings\n",
    "        n_clusters = len(set(ground_truth.tolist()))\n",
    "        communities = detect_communities_from_embeddings(embeddings, n_clusters=n_clusters)\n",
    "        \n",
    "        # Visualize embeddings colored by detected communities\n",
    "        plot_embeddings(embeddings, communities, method='tsne',\n",
    "                      title=f\"{model_type.upper()} Node Embeddings (Detected Communities)\")\n",
    "        \n",
    "        return embeddings, communities\n",
    "    \n",
    "    # Visualize embeddings for each model type\n",
    "    model_types = ['gcn', 'graphsage', 'gat', 'vgae']\n",
    "    \n",
    "    for model_type in model_types:\n",
    "        print(f\"\\nVisualizing embeddings for {model_type.upper()}...\")\n",
    "        try:\n",
    "            visualize_model_embeddings(G, model_type, embedding_dim=16, epochs=50)\n",
    "        except Exception as e:\n",
    "            print(f\"Error visualizing embeddings for {model_type}: {e}\")"
   ]
  },
  {
   "cell_type": "markdown",
   "metadata": {},
   "source": [
    "## 9. Summary and Conclusions\n",
    "\n",
    "In this notebook, we have:\n",
    "\n",
    "1. Applied various GNN-based community detection methods to our test graph\n",
    "   - Graph Convolutional Network (GCN)\n",
    "   - GraphSAGE\n",
    "   - Graph Attention Network (GAT)\n",
    "   - Variational Graph Autoencoder (VGAE)\n",
    "2. Trained the models and extracted node embeddings\n",
    "3. Detected communities from the embeddings\n",
    "4. Evaluated the results against ground truth\n",
    "5. Compared different GNN architectures\n",
    "6. Visualized the node embeddings\n",
    "\n",
    "Graph Neural Networks provide a powerful approach to community detection by learning meaningful node representations that capture both structural and attribute information. These embeddings can then be used with standard clustering algorithms to detect communities.\n",
    "\n",
    "In the next notebook, we'll explore methods for detecting communities in dynamic graphs that evolve over time."
   ]
  }
 ],
 "metadata": {
  "kernelspec": {
   "display_name": "Python 3 (ipykernel)",
   "language": "python",
   "name": "python3"
  },
  "language_info": {
   "codemirror_mode": {
    "name": "ipython",
    "version": 3
   },
   "file_extension": ".py",
   "mimetype": "text/x-python",
   "name": "python",
   "nbconvert_exporter": "python",
   "pygments_lexer": "ipython3",
   "version": "3.12.9"
  }
 },
 "nbformat": 4,
 "nbformat_minor": 4
}